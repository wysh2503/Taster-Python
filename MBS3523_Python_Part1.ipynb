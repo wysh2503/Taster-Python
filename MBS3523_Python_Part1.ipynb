{
  "metadata": {
    "kernelspec": {
      "name": "python",
      "display_name": "Python (Pyodide)",
      "language": "python"
    },
    "language_info": {
      "codemirror_mode": {
        "name": "python",
        "version": 3
      },
      "file_extension": ".py",
      "mimetype": "text/x-python",
      "name": "python",
      "nbconvert_exporter": "python",
      "pygments_lexer": "ipython3",
      "version": "3.8"
    }
  },
  "nbformat_minor": 4,
  "nbformat": 4,
  "cells": [
    {
      "cell_type": "markdown",
      "source": "# MBS3523 Python Part 1",
      "metadata": {}
    },
    {
      "cell_type": "markdown",
      "source": "# Python Syntax",
      "metadata": {}
    },
    {
      "cell_type": "code",
      "source": "print(\"Hello, World!\")",
      "metadata": {
        "trusted": true
      },
      "outputs": [],
      "execution_count": null
    },
    {
      "cell_type": "code",
      "source": "# Python uses indentation to indicate a block of code\nif 50 > 30:\n    print(\"Fifty is greater than thirty!\")\n",
      "metadata": {
        "trusted": true
      },
      "outputs": [],
      "execution_count": null
    },
    {
      "cell_type": "markdown",
      "source": "## Variables",
      "metadata": {}
    },
    {
      "cell_type": "code",
      "source": "x = 99\ny = \"Hello, World!\"\nprint(x)\nprint(y)\n",
      "metadata": {
        "trusted": true
      },
      "outputs": [],
      "execution_count": null
    },
    {
      "cell_type": "markdown",
      "source": "## Comments",
      "metadata": {}
    },
    {
      "cell_type": "code",
      "source": "# This is a comment. This line will be used as text explanation.\nprint(\"I understand Python now!\") # A comment can be put here.",
      "metadata": {
        "trusted": true
      },
      "outputs": [],
      "execution_count": null
    },
    {
      "cell_type": "markdown",
      "source": "# Variables",
      "metadata": {}
    },
    {
      "cell_type": "code",
      "source": "x = 5\ny = \"John\"\nprint(x)\nprint(y)\n",
      "metadata": {
        "trusted": true
      },
      "outputs": [],
      "execution_count": null
    },
    {
      "cell_type": "code",
      "source": "x = 4       # x is of type int\nx = \"Sally\" # x is now of type str\nprint(x)\n",
      "metadata": {
        "trusted": true
      },
      "outputs": [],
      "execution_count": null
    },
    {
      "cell_type": "markdown",
      "source": "## Casting",
      "metadata": {}
    },
    {
      "cell_type": "code",
      "source": "x = str(99)    # x will be '99'\ny = int(99)    # y will be 99\nz = float(99)  # z will be 99.0 \nprint(x) \nprint(y)\nprint(z)\n",
      "metadata": {
        "trusted": true
      },
      "outputs": [],
      "execution_count": null
    },
    {
      "cell_type": "markdown",
      "source": "Getting data type",
      "metadata": {}
    },
    {
      "cell_type": "code",
      "source": "x = 999\ny = \"Snow White\"\nprint(type(x))\nprint(type(y))\n",
      "metadata": {
        "trusted": true
      },
      "outputs": [],
      "execution_count": null
    },
    {
      "cell_type": "markdown",
      "source": "Case Sensitive 區分大小寫",
      "metadata": {}
    },
    {
      "cell_type": "code",
      "source": "a = 100\nA = \"Score\"\n# A will not overwrite a\nprint(A + \" = \" + a) # + means concatenate, i.e. adding two strings\n",
      "metadata": {
        "trusted": true
      },
      "outputs": [],
      "execution_count": null
    },
    {
      "cell_type": "markdown",
      "source": "# Variable names|變數名",
      "metadata": {}
    },
    {
      "cell_type": "code",
      "source": "# Below shows some examples of legal variable names 以下是一些合法變數名的例子\nmyvar = \"Engineering\"\nmy_var = \"IVE(LWL) Engineering\" # illegal: my-var\n_my_var = \"IVE(LWL) Department of Engineering\" # illegal: _my-var\nmyVar = \"ENG LWL\"\nMYVAR = \"Eng\"\nmyvar2 = \"Engineering\" # illegal: 2myvar\nprint (myvar)\nprint (my_var)\nprint (_my_var)\nprint (myVar)\nprint (MYVAR)\nprint (myvar2)\n",
      "metadata": {
        "trusted": true
      },
      "outputs": [],
      "execution_count": null
    },
    {
      "cell_type": "markdown",
      "source": "Several values to multiple variables",
      "metadata": {}
    },
    {
      "cell_type": "code",
      "source": "x, y, z = \"Orange\", \"Banana\", \"Cherry\"\nprint(x)\nprint(y)\nprint(z)\n",
      "metadata": {
        "trusted": true
      },
      "outputs": [],
      "execution_count": null
    },
    {
      "cell_type": "markdown",
      "source": "One value to multiple variables",
      "metadata": {}
    },
    {
      "cell_type": "code",
      "source": "x = y = z = \"Orange\"\nprint(x)\nprint(y)\nprint(z)\n",
      "metadata": {
        "trusted": true
      },
      "outputs": [],
      "execution_count": null
    },
    {
      "cell_type": "markdown",
      "source": "Unpack a collection",
      "metadata": {}
    },
    {
      "cell_type": "code",
      "source": "fruits = [\"apple\", \"banana\", \"cherry\"]\nx, y, z = fruits\nprint(x)\nprint(y)\nprint(z)\n",
      "metadata": {
        "trusted": true
      },
      "outputs": [],
      "execution_count": null
    },
    {
      "cell_type": "markdown",
      "source": "Output variables - print",
      "metadata": {}
    },
    {
      "cell_type": "code",
      "source": "x = \"interesting\"\nprint(\"This taster programme is \" + x)\n",
      "metadata": {
        "trusted": true
      },
      "outputs": [],
      "execution_count": null
    },
    {
      "cell_type": "code",
      "source": "x = \"This taster programme is \"\ny = \"excellent\"\nz =  x + y\nprint(z)\n",
      "metadata": {
        "trusted": true
      },
      "outputs": [],
      "execution_count": null
    },
    {
      "cell_type": "code",
      "source": "# For numbers, the + character works as a mathematical operator\nx = 5\ny = 10\nprint(x + y)\n",
      "metadata": {
        "trusted": true
      },
      "outputs": [],
      "execution_count": null
    },
    {
      "cell_type": "markdown",
      "source": "# Data Types",
      "metadata": {}
    },
    {
      "cell_type": "markdown",
      "source": "Python has the following data types:\nText Type:\tstr\nNumeric Types:\tint, float, complex\nSequence Types:\tlist, tuple, range\nMapping Type:\tdict\nSet Types:\tset, frozenset\nBoolean Type:\tbool\nBinary Types:\tbytes, bytearray, memoryview\n",
      "metadata": {}
    },
    {
      "cell_type": "code",
      "source": "x = 5\nprint(type(x))\n",
      "metadata": {
        "trusted": true
      },
      "outputs": [],
      "execution_count": null
    },
    {
      "cell_type": "code",
      "source": "x = 1    # int\ny = 2.8  # float\nz = 1j   # complex\nprint(type(x))\nprint(type(y))\nprint(type(z))\n",
      "metadata": {
        "trusted": true
      },
      "outputs": [],
      "execution_count": null
    },
    {
      "cell_type": "code",
      "source": "x = 1\ny = 35656222554887711\nz = -3255522\n\nprint(type(x))\nprint(type(y))\nprint(type(z))\n",
      "metadata": {
        "trusted": true
      },
      "outputs": [],
      "execution_count": null
    },
    {
      "cell_type": "code",
      "source": "x = 1.10\ny = 1.0\nz = -35.59\n\nprint(type(x))\nprint(type(y))\nprint(type(z))\n\n",
      "metadata": {
        "trusted": true
      },
      "outputs": [],
      "execution_count": null
    },
    {
      "cell_type": "code",
      "source": "x = 35e3\ny = 12E4\nz = -87.7e100\n\nprint(type(x))\nprint(type(y))\nprint(type(z))\n",
      "metadata": {
        "trusted": true
      },
      "outputs": [],
      "execution_count": null
    },
    {
      "cell_type": "code",
      "source": "# complex number\nx = 3+5j\ny = 5j\nz = -5j\n\nprint(type(x))\nprint(type(y))\nprint(type(z))\n",
      "metadata": {
        "trusted": true
      },
      "outputs": [],
      "execution_count": null
    },
    {
      "cell_type": "code",
      "source": "# Converting one data type to another\nx = 1    # int\ny = 2.8  # float\nz = 1j   # complex\n\n#convert from int to float:\na = float(x)\n\n#convert from float to int:\nb = int(y)\n\n#convert from int to complex:\nc = complex(x)\n\nprint(a)\nprint(b)\nprint(c)\n\nprint(type(a))\nprint(type(b))\nprint(type(c))\n",
      "metadata": {
        "trusted": true
      },
      "outputs": [],
      "execution_count": null
    },
    {
      "cell_type": "code",
      "source": "# Python does not have a random() function to make a random number, \n# but Python has a built-in module called random that can be used to make random numbers\nimport random\n\nprint(random.randrange(1, 10))\n",
      "metadata": {
        "trusted": true
      },
      "outputs": [],
      "execution_count": null
    }
  ]
}